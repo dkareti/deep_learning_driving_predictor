{
 "cells": [
  {
   "cell_type": "code",
   "execution_count": 1,
   "id": "fb417582",
   "metadata": {},
   "outputs": [],
   "source": [
    "import sys, os\n",
    "sys.path.append(os.path.abspath(\"../\"))\n",
    "\n",
    "#### ++++++++++++++++++++++++++++++++++++++++++++++++++++++++\n",
    "#### Code to get external code files\n",
    "####\n",
    "#### This is necessary because the notebook is in a folder\n",
    "#### --------------------------------------------------------"
   ]
  },
  {
   "cell_type": "code",
   "execution_count": 2,
   "id": "61f2654e",
   "metadata": {},
   "outputs": [
    {
     "name": "stdout",
     "output_type": "stream",
     "text": [
      "Loading the Saved Model!\n",
      "\u001b[1m4/4\u001b[0m \u001b[32m━━━━━━━━━━━━━━━━━━━━\u001b[0m\u001b[37m\u001b[0m \u001b[1m0s\u001b[0m 24ms/step\n"
     ]
    }
   ],
   "source": [
    "##### +++++++++++++++++++++++++++++++++++++++++++++++++++++++\n",
    "##### Generate Baseline\n",
    "##### --------------------------------------------------------\n",
    "from keras.models import load_model\n",
    "from src_code.eval import evaluate_model\n",
    "\n",
    "model_path = \"../saved_models/behav_model.keras\"\n",
    "\n",
    "if os.path.exists(model_path):\n",
    "    print('Loading the Saved Model!')\n",
    "    model = load_model(model_path)\n",
    "    evaluate_model(model)"
   ]
  },
  {
   "cell_type": "code",
   "execution_count": 3,
   "id": "aead3737",
   "metadata": {},
   "outputs": [],
   "source": [
    "from src_code.generate_data import get_train_test_data\n",
    "\n",
    "\n",
    "#generate the data\n",
    "X_train, X_test, y_train, y_test = get_train_test_data()"
   ]
  },
  {
   "cell_type": "code",
   "execution_count": 4,
   "id": "5bff6f33",
   "metadata": {},
   "outputs": [
    {
     "data": {
      "text/plain": [
       "50"
      ]
     },
     "execution_count": 4,
     "metadata": {},
     "output_type": "execute_result"
    }
   ],
   "source": [
    "#### ++++++++++++++++++++++++++++++++++++++++++++++++++++++\n",
    "#### SEE THE TRAINING ARRAY FOR ONE INDEX\n",
    "#### ----------------------------------------------------\n",
    "import numpy as np\n",
    "\n",
    "arr = [np.round(x,2).tolist() for x in X_train[0]]\n",
    "len(arr)\n"
   ]
  },
  {
   "cell_type": "code",
   "execution_count": 5,
   "id": "d3b29270",
   "metadata": {},
   "outputs": [],
   "source": [
    "#### ++++++++++++++++++++++++++++++++++++++++++++++++++++++++\n",
    "#### CREATE A FUNCTION FOR MODEL COMPILATION AND FIT\n",
    "def compile_and_fit(model_name, loss_name: str, epoch_size: int, batch: int):\n",
    "    #generate the data \n",
    "    X_train, X_test, y_train, y_test = get_train_test_data()\n",
    "\n",
    "    model_name.compile(loss=loss_name, optimizer='adam')\n",
    "    model_name_fit = model_name.fit(X_train, y_train, epochs = epoch_size, batch_size = batch)\n",
    "\n",
    "    return model_name_fit, model_name"
   ]
  },
  {
   "cell_type": "code",
   "execution_count": 6,
   "id": "50698d1c",
   "metadata": {},
   "outputs": [],
   "source": [
    "#### +++++++++++++++++++++++++++++++++++++++++++++++\n",
    "#### PLOT THE LOSS DURING TRAINING\n",
    "#### -----------------------------------------------\n",
    "import matplotlib.pyplot as plt\n",
    "\n",
    "def plot_loss_in_training(model_fit):\n",
    "    plt.figure(figsize=(5, 5))\n",
    "    plt.plot(model_fit.history['loss'], marker='o')\n",
    "    plt.title('Training Loss')\n",
    "    plt.xlabel('Epoch')\n",
    "    plt.ylabel('Loss')\n",
    "    plt.grid()\n",
    "    plt.show()"
   ]
  },
  {
   "cell_type": "code",
   "execution_count": 14,
   "id": "8f69af91",
   "metadata": {},
   "outputs": [
    {
     "name": "stdout",
     "output_type": "stream",
     "text": [
      "Epoch 1/20\n",
      "\u001b[1m25/25\u001b[0m \u001b[32m━━━━━━━━━━━━━━━━━━━━\u001b[0m\u001b[37m\u001b[0m \u001b[1m1s\u001b[0m 3ms/step - loss: 1.2365  \n",
      "Epoch 2/20\n",
      "\u001b[1m25/25\u001b[0m \u001b[32m━━━━━━━━━━━━━━━━━━━━\u001b[0m\u001b[37m\u001b[0m \u001b[1m0s\u001b[0m 3ms/step - loss: 0.4520\n",
      "Epoch 3/20\n",
      "\u001b[1m25/25\u001b[0m \u001b[32m━━━━━━━━━━━━━━━━━━━━\u001b[0m\u001b[37m\u001b[0m \u001b[1m0s\u001b[0m 3ms/step - loss: 0.2778\n",
      "Epoch 4/20\n",
      "\u001b[1m25/25\u001b[0m \u001b[32m━━━━━━━━━━━━━━━━━━━━\u001b[0m\u001b[37m\u001b[0m \u001b[1m0s\u001b[0m 3ms/step - loss: 0.2240\n",
      "Epoch 5/20\n",
      "\u001b[1m25/25\u001b[0m \u001b[32m━━━━━━━━━━━━━━━━━━━━\u001b[0m\u001b[37m\u001b[0m \u001b[1m0s\u001b[0m 3ms/step - loss: 0.1855\n",
      "Epoch 6/20\n",
      "\u001b[1m25/25\u001b[0m \u001b[32m━━━━━━━━━━━━━━━━━━━━\u001b[0m\u001b[37m\u001b[0m \u001b[1m0s\u001b[0m 3ms/step - loss: 0.1207\n",
      "Epoch 7/20\n",
      "\u001b[1m25/25\u001b[0m \u001b[32m━━━━━━━━━━━━━━━━━━━━\u001b[0m\u001b[37m\u001b[0m \u001b[1m0s\u001b[0m 3ms/step - loss: 0.0760\n",
      "Epoch 8/20\n",
      "\u001b[1m25/25\u001b[0m \u001b[32m━━━━━━━━━━━━━━━━━━━━\u001b[0m\u001b[37m\u001b[0m \u001b[1m0s\u001b[0m 3ms/step - loss: 0.0409\n",
      "Epoch 9/20\n",
      "\u001b[1m25/25\u001b[0m \u001b[32m━━━━━━━━━━━━━━━━━━━━\u001b[0m\u001b[37m\u001b[0m \u001b[1m0s\u001b[0m 3ms/step - loss: 0.0172\n",
      "Epoch 10/20\n",
      "\u001b[1m25/25\u001b[0m \u001b[32m━━━━━━━━━━━━━━━━━━━━\u001b[0m\u001b[37m\u001b[0m \u001b[1m0s\u001b[0m 3ms/step - loss: 0.0143\n",
      "Epoch 11/20\n",
      "\u001b[1m25/25\u001b[0m \u001b[32m━━━━━━━━━━━━━━━━━━━━\u001b[0m\u001b[37m\u001b[0m \u001b[1m0s\u001b[0m 3ms/step - loss: 0.0064\n",
      "Epoch 12/20\n",
      "\u001b[1m25/25\u001b[0m \u001b[32m━━━━━━━━━━━━━━━━━━━━\u001b[0m\u001b[37m\u001b[0m \u001b[1m0s\u001b[0m 3ms/step - loss: 0.0045\n",
      "Epoch 13/20\n",
      "\u001b[1m25/25\u001b[0m \u001b[32m━━━━━━━━━━━━━━━━━━━━\u001b[0m\u001b[37m\u001b[0m \u001b[1m0s\u001b[0m 4ms/step - loss: 0.0045\n",
      "Epoch 14/20\n",
      "\u001b[1m25/25\u001b[0m \u001b[32m━━━━━━━━━━━━━━━━━━━━\u001b[0m\u001b[37m\u001b[0m \u001b[1m0s\u001b[0m 3ms/step - loss: 0.0034\n",
      "Epoch 15/20\n",
      "\u001b[1m25/25\u001b[0m \u001b[32m━━━━━━━━━━━━━━━━━━━━\u001b[0m\u001b[37m\u001b[0m \u001b[1m0s\u001b[0m 3ms/step - loss: 0.0030\n",
      "Epoch 16/20\n",
      "\u001b[1m25/25\u001b[0m \u001b[32m━━━━━━━━━━━━━━━━━━━━\u001b[0m\u001b[37m\u001b[0m \u001b[1m0s\u001b[0m 4ms/step - loss: 0.0029\n",
      "Epoch 17/20\n",
      "\u001b[1m25/25\u001b[0m \u001b[32m━━━━━━━━━━━━━━━━━━━━\u001b[0m\u001b[37m\u001b[0m \u001b[1m0s\u001b[0m 3ms/step - loss: 0.0024\n",
      "Epoch 18/20\n",
      "\u001b[1m25/25\u001b[0m \u001b[32m━━━━━━━━━━━━━━━━━━━━\u001b[0m\u001b[37m\u001b[0m \u001b[1m0s\u001b[0m 3ms/step - loss: 0.0050\n",
      "Epoch 19/20\n",
      "\u001b[1m25/25\u001b[0m \u001b[32m━━━━━━━━━━━━━━━━━━━━\u001b[0m\u001b[37m\u001b[0m \u001b[1m0s\u001b[0m 3ms/step - loss: 0.0015\n",
      "Epoch 20/20\n",
      "\u001b[1m25/25\u001b[0m \u001b[32m━━━━━━━━━━━━━━━━━━━━\u001b[0m\u001b[37m\u001b[0m \u001b[1m0s\u001b[0m 4ms/step - loss: 0.0016\n"
     ]
    }
   ],
   "source": [
    "import keras\n",
    "from keras import Sequential\n",
    "\n",
    "### ++++++++++++++++++++++++++++++++++++++++++++++\n",
    "### DESCRIPTION OF PARAMETERS\n",
    "###\n",
    "### The final layer in the model has 5 neurons, because\n",
    "###     we are seeking to predict 5 behaviors:\n",
    "###         1. Cruise\n",
    "###         2. Accelerate\n",
    "###         3. Brake\n",
    "###         4. Turn right\n",
    "###         5. Turn left\n",
    "###\n",
    "### The size of the input is (50, 6); 6 characteristics\n",
    "###     characteristics = ['speed', 'accel', 'yaw_rate', 'steering', 'throttle', 'brake']\n",
    "###     each having a sequence of 50\n",
    "\n",
    "experimental_model = model = Sequential([\n",
    "        keras.layers.Input(shape=((50, 6))),\n",
    "        keras.layers.Conv1D(128, kernel_size=3, activation='relu'),\n",
    "        keras.layers.MaxPooling1D(4),\n",
    "        keras.layers.Dropout(0.3),\n",
    "        keras.layers.LSTM(64),\n",
    "        keras.layers.Dropout(0.3),\n",
    "        keras.layers.Dense(32, activation='relu'),\n",
    "        keras.layers.Dense(5, activation='softmax')\n",
    "    ])\n",
    "\n",
    "experimental_model_fit, experimental_model = compile_and_fit(experimental_model, 'sparse_categorical_crossentropy', epoch_size=20, batch=16)\n",
    "experimental_model.save(\"../saved_models/best_model.keras\")\n"
   ]
  },
  {
   "cell_type": "code",
   "execution_count": 8,
   "id": "a73c5684",
   "metadata": {},
   "outputs": [
    {
     "data": {
      "image/png": "[encoded data removed]",
      "text/plain": [
       "<Figure size 500x500 with 1 Axes>"
      ]
     },
     "metadata": {},
     "output_type": "display_data"
    }
   ],
   "source": [
    "plot_loss_in_training(experimental_model_fit)"
   ]
  },
  {
   "cell_type": "code",
   "execution_count": 12,
   "id": "8d891d06",
   "metadata": {},
   "outputs": [
    {
     "name": "stdout",
     "output_type": "stream",
     "text": [
      "\u001b[1m4/4\u001b[0m \u001b[32m━━━━━━━━━━━━━━━━━━━━\u001b[0m\u001b[37m\u001b[0m \u001b[1m0s\u001b[0m 4ms/step \n",
      "Confusion Matrix is: \n",
      "\n",
      " [[21  0  0  0  0]\n",
      " [ 0 19  0  0  0]\n",
      " [ 0  0 19  0  0]\n",
      " [ 0  0  0 19  0]\n",
      " [ 0  0  0  0 22]]\n",
      "\n",
      "Classification Report is: \n",
      "\n",
      "               precision    recall  f1-score   support\n",
      "\n",
      "           0       1.00      1.00      1.00        21\n",
      "           1       1.00      1.00      1.00        19\n",
      "           2       1.00      1.00      1.00        19\n",
      "           3       1.00      1.00      1.00        19\n",
      "           4       1.00      1.00      1.00        22\n",
      "\n",
      "    accuracy                           1.00       100\n",
      "   macro avg       1.00      1.00      1.00       100\n",
      "weighted avg       1.00      1.00      1.00       100\n",
      "\n",
      "\n",
      "Loss is: \n",
      "\n",
      " 0.0004784773918800056\n",
      "\n"
     ]
    }
   ],
   "source": [
    "result = evaluate_model(experimental_model)\n",
    "for k, v in result.items():\n",
    "    print(f'{k} is: \\n\\n {v}\\n')"
   ]
  },
  {
   "cell_type": "code",
   "execution_count": null,
   "id": "14c2cf3b",
   "metadata": {},
   "outputs": [],
   "source": []
  }
 ],
 "metadata": {
  "kernelspec": {
   "display_name": "3.11.5",
   "language": "python",
   "name": "python3"
  },
  "language_info": {
   "codemirror_mode": {
    "name": "ipython",
    "version": 3
   },
   "file_extension": ".py",
   "mimetype": "text/x-python",
   "name": "python",
   "nbconvert_exporter": "python",
   "pygments_lexer": "ipython3",
   "version": "3.11.5"
  }
 },
 "nbformat": 4,
 "nbformat_minor": 5
}
