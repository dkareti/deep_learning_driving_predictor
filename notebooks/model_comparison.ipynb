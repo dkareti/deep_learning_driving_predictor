{
 "cells": [
  {
   "cell_type": "code",
   "execution_count": 3,
   "id": "fb417582",
   "metadata": {},
   "outputs": [],
   "source": [
    "import sys, os\n",
    "sys.path.append(os.path.abspath(\"../\"))\n",
    "\n",
    "#### ++++++++++++++++++++++++++++++++++++++++++++++++++++++++\n",
    "#### Code to get external code files\n",
    "####\n",
    "#### This is necessary because the notebook is in a folder\n",
    "#### --------------------------------------------------------"
   ]
  },
  {
   "cell_type": "code",
   "execution_count": 6,
   "id": "61f2654e",
   "metadata": {},
   "outputs": [
    {
     "name": "stdout",
     "output_type": "stream",
     "text": [
      "Loading the Saved Model!\n",
      "\u001b[1m4/4\u001b[0m \u001b[32m━━━━━━━━━━━━━━━━━━━━\u001b[0m\u001b[37m\u001b[0m \u001b[1m0s\u001b[0m 25ms/step\n",
      "[[22  0  0  0  0]\n",
      " [ 0 20  0  0  0]\n",
      " [ 0  0 22  0  0]\n",
      " [ 0  0  0 17  0]\n",
      " [ 0  0  0  0 19]]\n",
      "              precision    recall  f1-score   support\n",
      "\n",
      "           0       1.00      1.00      1.00        22\n",
      "           1       1.00      1.00      1.00        20\n",
      "           2       1.00      1.00      1.00        22\n",
      "           3       1.00      1.00      1.00        17\n",
      "           4       1.00      1.00      1.00        19\n",
      "\n",
      "    accuracy                           1.00       100\n",
      "   macro avg       1.00      1.00      1.00       100\n",
      "weighted avg       1.00      1.00      1.00       100\n",
      "\n",
      "\u001b[1m4/4\u001b[0m \u001b[32m━━━━━━━━━━━━━━━━━━━━\u001b[0m\u001b[37m\u001b[0m \u001b[1m0s\u001b[0m 4ms/step - loss: 0.0909  \n",
      "\n",
      "\n",
      " Loss: 0.09640885144472122\n"
     ]
    }
   ],
   "source": [
    "##### +++++++++++++++++++++++++++++++++++++++++++++++++++++++\n",
    "##### Generate Baseline\n",
    "##### --------------------------------------------------------\n",
    "from keras.models import load_model\n",
    "from src_code.eval import evaluate_model\n",
    "\n",
    "model_path = \"../saved_models/behav_model.keras\"\n",
    "\n",
    "if os.path.exists(model_path):\n",
    "    print('Loading the Saved Model!')\n",
    "    model = load_model(model_path)\n",
    "    evaluate_model(model)"
   ]
  },
  {
   "cell_type": "code",
   "execution_count": null,
   "id": "aead3737",
   "metadata": {},
   "outputs": [
    {
     "data": {
      "text/plain": [
       "(50, 6)"
      ]
     },
     "execution_count": 7,
     "metadata": {},
     "output_type": "execute_result"
    }
   ],
   "source": [
    "from src_code.generate_data import get_train_test_data\n",
    "\n",
    "\n",
    "#generate the data\n",
    "X_train, X_test, y_train, y_test = get_train_test_data()"
   ]
  },
  {
   "cell_type": "code",
   "execution_count": null,
   "id": "5bff6f33",
   "metadata": {},
   "outputs": [
    {
     "data": {
      "text/plain": [
       "50"
      ]
     },
     "execution_count": 13,
     "metadata": {},
     "output_type": "execute_result"
    }
   ],
   "source": [
    "#### ++++++++++++++++++++++++++++++++++++++++++++++++++++++\n",
    "#### SEE THE TRAINING ARRAY FOR ONE INDEX\n",
    "#### ----------------------------------------------------\n",
    "import numpy as np\n",
    "\n",
    "arr = [np.round(x,2).tolist() for x in X_train[0]]\n",
    "len(arr)\n"
   ]
  },
  {
   "cell_type": "code",
   "execution_count": null,
   "id": "d3b29270",
   "metadata": {},
   "outputs": [],
   "source": [
    "#### ++++++++++++++++++++++++++++++++++++++++++++++++++++++++\n",
    "#### CREATE A FUNCTION FOR MODEL COMPILATION AND FIT\n",
    "def compile_and_fit(model_name, loss_name: str, epoch_size: int, batch: int):\n",
    "    #generate the data \n",
    "    X_train, X_test, y_train, y_test = get_train_test_data()\n",
    "\n",
    "    model_name.compile(loss=loss_name, optimizer='adam')\n",
    "    model_name_fit = model_name.fit(X_train, y_train, epochs = epoch_size, batch_size = batch)\n",
    "\n",
    "    return model_name_fit, model_name"
   ]
  },
  {
   "cell_type": "code",
   "execution_count": 25,
   "id": "50698d1c",
   "metadata": {},
   "outputs": [],
   "source": [
    "#### +++++++++++++++++++++++++++++++++++++++++++++++\n",
    "#### PLOT THE LOSS DURING TRAINING\n",
    "#### -----------------------------------------------\n",
    "import matplotlib.pyplot as plt\n",
    "\n",
    "def plot_loss_in_training(model_fit):\n",
    "    plt.figure(figsize=(5, 5))\n",
    "    plt.plot(model_fit.history['loss'], marker='o')\n",
    "    plt.title('Training Loss')\n",
    "    plt.xlabel('Epoch')\n",
    "    plt.ylabel('Loss')\n",
    "    plt.grid()\n",
    "    plt.show()"
   ]
  },
  {
   "cell_type": "code",
   "execution_count": null,
   "id": "8f69af91",
   "metadata": {},
   "outputs": [
    {
     "name": "stdout",
     "output_type": "stream",
     "text": [
      "Epoch 1/20\n",
      "\u001b[1m25/25\u001b[0m \u001b[32m━━━━━━━━━━━━━━━━━━━━\u001b[0m\u001b[37m\u001b[0m \u001b[1m1s\u001b[0m 3ms/step - loss: 1.3193  \n",
      "Epoch 2/20\n",
      "\u001b[1m25/25\u001b[0m \u001b[32m━━━━━━━━━━━━━━━━━━━━\u001b[0m\u001b[37m\u001b[0m \u001b[1m0s\u001b[0m 3ms/step - loss: 0.5645\n",
      "Epoch 3/20\n",
      "\u001b[1m25/25\u001b[0m \u001b[32m━━━━━━━━━━━━━━━━━━━━\u001b[0m\u001b[37m\u001b[0m \u001b[1m0s\u001b[0m 3ms/step - loss: 0.3754\n",
      "Epoch 4/20\n",
      "\u001b[1m25/25\u001b[0m \u001b[32m━━━━━━━━━━━━━━━━━━━━\u001b[0m\u001b[37m\u001b[0m \u001b[1m0s\u001b[0m 3ms/step - loss: 0.3011\n",
      "Epoch 5/20\n",
      "\u001b[1m25/25\u001b[0m \u001b[32m━━━━━━━━━━━━━━━━━━━━\u001b[0m\u001b[37m\u001b[0m \u001b[1m0s\u001b[0m 4ms/step - loss: 0.3042\n",
      "Epoch 6/20\n",
      "\u001b[1m25/25\u001b[0m \u001b[32m━━━━━━━━━━━━━━━━━━━━\u001b[0m\u001b[37m\u001b[0m \u001b[1m0s\u001b[0m 3ms/step - loss: 0.2819\n",
      "Epoch 7/20\n",
      "\u001b[1m25/25\u001b[0m \u001b[32m━━━━━━━━━━━━━━━━━━━━\u001b[0m\u001b[37m\u001b[0m \u001b[1m0s\u001b[0m 3ms/step - loss: 0.2727\n",
      "Epoch 8/20\n",
      "\u001b[1m25/25\u001b[0m \u001b[32m━━━━━━━━━━━━━━━━━━━━\u001b[0m\u001b[37m\u001b[0m \u001b[1m0s\u001b[0m 3ms/step - loss: 0.2211\n",
      "Epoch 9/20\n",
      "\u001b[1m25/25\u001b[0m \u001b[32m━━━━━━━━━━━━━━━━━━━━\u001b[0m\u001b[37m\u001b[0m \u001b[1m0s\u001b[0m 3ms/step - loss: 0.1479\n",
      "Epoch 10/20\n",
      "\u001b[1m25/25\u001b[0m \u001b[32m━━━━━━━━━━━━━━━━━━━━\u001b[0m\u001b[37m\u001b[0m \u001b[1m0s\u001b[0m 4ms/step - loss: 0.1771\n",
      "Epoch 11/20\n",
      "\u001b[1m25/25\u001b[0m \u001b[32m━━━━━━━━━━━━━━━━━━━━\u001b[0m\u001b[37m\u001b[0m \u001b[1m0s\u001b[0m 3ms/step - loss: 0.1214\n",
      "Epoch 12/20\n",
      "\u001b[1m25/25\u001b[0m \u001b[32m━━━━━━━━━━━━━━━━━━━━\u001b[0m\u001b[37m\u001b[0m \u001b[1m0s\u001b[0m 3ms/step - loss: 0.0804\n",
      "Epoch 13/20\n",
      "\u001b[1m25/25\u001b[0m \u001b[32m━━━━━━━━━━━━━━━━━━━━\u001b[0m\u001b[37m\u001b[0m \u001b[1m0s\u001b[0m 4ms/step - loss: 0.0427\n",
      "Epoch 14/20\n",
      "\u001b[1m25/25\u001b[0m \u001b[32m━━━━━━━━━━━━━━━━━━━━\u001b[0m\u001b[37m\u001b[0m \u001b[1m0s\u001b[0m 3ms/step - loss: 0.0421\n",
      "Epoch 15/20\n",
      "\u001b[1m25/25\u001b[0m \u001b[32m━━━━━━━━━━━━━━━━━━━━\u001b[0m\u001b[37m\u001b[0m \u001b[1m0s\u001b[0m 4ms/step - loss: 0.0179\n",
      "Epoch 16/20\n",
      "\u001b[1m25/25\u001b[0m \u001b[32m━━━━━━━━━━━━━━━━━━━━\u001b[0m\u001b[37m\u001b[0m \u001b[1m0s\u001b[0m 4ms/step - loss: 0.0220\n",
      "Epoch 17/20\n",
      "\u001b[1m25/25\u001b[0m \u001b[32m━━━━━━━━━━━━━━━━━━━━\u001b[0m\u001b[37m\u001b[0m \u001b[1m0s\u001b[0m 3ms/step - loss: 0.0168\n",
      "Epoch 18/20\n",
      "\u001b[1m25/25\u001b[0m \u001b[32m━━━━━━━━━━━━━━━━━━━━\u001b[0m\u001b[37m\u001b[0m \u001b[1m0s\u001b[0m 3ms/step - loss: 0.0119\n",
      "Epoch 19/20\n",
      "\u001b[1m25/25\u001b[0m \u001b[32m━━━━━━━━━━━━━━━━━━━━\u001b[0m\u001b[37m\u001b[0m \u001b[1m0s\u001b[0m 4ms/step - loss: 0.0093\n",
      "Epoch 20/20\n",
      "\u001b[1m25/25\u001b[0m \u001b[32m━━━━━━━━━━━━━━━━━━━━\u001b[0m\u001b[37m\u001b[0m \u001b[1m0s\u001b[0m 3ms/step - loss: 0.0175\n"
     ]
    }
   ],
   "source": [
    "import keras\n",
    "from keras import Sequential\n",
    "\n",
    "### ++++++++++++++++++++++++++++++++++++++++++++++\n",
    "### DESCRIPTION OF PARAMETERS\n",
    "###\n",
    "### The final layer in the model has 5 neurons, because\n",
    "###     we are seeking to predict 5 behaviors:\n",
    "###         1. Cruise\n",
    "###         2. Accelerate\n",
    "###         3. Brake\n",
    "###         4. Turn right\n",
    "###         5. Turn left\n",
    "###\n",
    "### The size of the input is (50, 6); 6 characteristics\n",
    "###     characteristics = ['speed', 'accel', 'yaw_rate', 'steering', 'throttle', 'brake']\n",
    "###     each having a sequence of 50\n",
    "\n",
    "experimental_model = model = Sequential([\n",
    "        keras.layers.Input(shape=((50, 6))),\n",
    "        keras.layers.Conv1D(128, kernel_size=3, activation='relu'),\n",
    "        keras.layers.MaxPooling1D(4),\n",
    "        keras.layers.Dropout(0.3),\n",
    "        keras.layers.LSTM(64),\n",
    "        keras.layers.Dropout(0.6),\n",
    "        keras.layers.Dense(32, activation='relu'),\n",
    "        keras.layers.Dense(5, activation='softmax')\n",
    "    ])\n",
    "\n",
    "experimental_model_fit, experimental_model = compile_and_fit(experimental_model, 'sparse_categorical_crossentropy', epoch_size=20, batch=16)\n"
   ]
  },
  {
   "cell_type": "code",
   "execution_count": 30,
   "id": "a73c5684",
   "metadata": {},
   "outputs": [
    {
     "data": {
      "image/png": "[encoded data removed]",
      "text/plain": [
       "<Figure size 500x500 with 1 Axes>"
      ]
     },
     "metadata": {},
     "output_type": "display_data"
    }
   ],
   "source": [
    "plot_loss_in_training(experimental_model_fit)"
   ]
  },
  {
   "cell_type": "code",
   "execution_count": 32,
   "id": "d18539ac",
   "metadata": {},
   "outputs": [
    {
     "name": "stdout",
     "output_type": "stream",
     "text": [
      "\u001b[1m4/4\u001b[0m \u001b[32m━━━━━━━━━━━━━━━━━━━━\u001b[0m\u001b[37m\u001b[0m \u001b[1m0s\u001b[0m 24ms/step\n",
      "[[20  0  0  0  0]\n",
      " [ 0 19  0  0  0]\n",
      " [ 0  0 18  0  0]\n",
      " [ 0  0  0 24  0]\n",
      " [ 0  0  0  0 19]]\n",
      "              precision    recall  f1-score   support\n",
      "\n",
      "           0       1.00      1.00      1.00        20\n",
      "           1       1.00      1.00      1.00        19\n",
      "           2       1.00      1.00      1.00        18\n",
      "           3       1.00      1.00      1.00        24\n",
      "           4       1.00      1.00      1.00        19\n",
      "\n",
      "    accuracy                           1.00       100\n",
      "   macro avg       1.00      1.00      1.00       100\n",
      "weighted avg       1.00      1.00      1.00       100\n",
      "\n",
      "\u001b[1m4/4\u001b[0m \u001b[32m━━━━━━━━━━━━━━━━━━━━\u001b[0m\u001b[37m\u001b[0m \u001b[1m0s\u001b[0m 4ms/step - loss: 4.0184e-04 \n",
      "\n",
      "\n",
      " Loss: 0.00040872106910683215\n"
     ]
    }
   ],
   "source": [
    "evaluate_model(experimental_model)"
   ]
  },
  {
   "cell_type": "code",
   "execution_count": null,
   "id": "8d891d06",
   "metadata": {},
   "outputs": [],
   "source": []
  }
 ],
 "metadata": {
  "kernelspec": {
   "display_name": "3.11.5",
   "language": "python",
   "name": "python3"
  },
  "language_info": {
   "codemirror_mode": {
    "name": "ipython",
    "version": 3
   },
   "file_extension": ".py",
   "mimetype": "text/x-python",
   "name": "python",
   "nbconvert_exporter": "python",
   "pygments_lexer": "ipython3",
   "version": "3.11.5"
  }
 },
 "nbformat": 4,
 "nbformat_minor": 5
}
