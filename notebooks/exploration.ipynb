{
 "cells": [
  {
   "cell_type": "code",
   "execution_count": null,
   "id": "99b7b7b1",
   "metadata": {},
   "outputs": [],
   "source": [
    "from src_code.generate_data import get_train_test_data\n",
    "import numpy as np\n",
    "import matplotlib.pyplot as plt\n",
    "\n",
    "##### ++++++++++++++++++++++++++++\n",
    "#### Visualize the shape of the data\n",
    "####\n",
    "#### I want to visualize :\n",
    "#### 1. X_train\n",
    "#### 2. X_test\n",
    "#### 3. y_train\n",
    "#### 4. y_test\n",
    "####\n",
    "#### -------------------------------\n",
    "\n",
    "X_train, X_test, y_train, y_test = get_train_test_data()\n",
    "\n",
    "##### ++++++++++++++++++++++++++++++\n",
    "#### Questions to answer:\n",
    "####\n",
    "#### What does one data point look like?\n",
    "####\n",
    "#### What is the shape?\n",
    "####\n",
    "#### ---------------------------------\n",
    "\n",
    "# Choose an example to visualize\n",
    "index = 0\n",
    "sequence = X_train[index]\n",
    "label = y_train[index]\n",
    "\n",
    "# Plot each feature over time\n",
    "plt.figure(figsize=(12, 6))\n",
    "for feature_idx in range(sequence.shape[1]):\n",
    "    plt.plot(sequence[:, feature_idx], label=f\"Feature {feature_idx}\")\n",
    "\n",
    "plt.title(f\"Sequence #{index} - Label: {label}\")\n",
    "plt.xlabel(\"Time Step\")\n",
    "plt.ylabel(\"Feature Value\")\n",
    "plt.legend()\n",
    "plt.grid(True)\n",
    "plt.show()\n"
   ]
  }
 ],
 "metadata": {
  "kernelspec": {
   "display_name": "3.11.5",
   "language": "python",
   "name": "python3"
  },
  "language_info": {
   "name": "python",
   "version": "3.11.5"
  }
 },
 "nbformat": 4,
 "nbformat_minor": 5
}
